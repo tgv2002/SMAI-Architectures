{
 "cells": [
  {
   "cell_type": "markdown",
   "metadata": {
    "id": "KFqwgxfkI9qG"
   },
   "source": [
    "# Support Vector Machines\n",
    "\n",
    "In this section of the assignment, you will get to implement Support Vector Machines which are among the best (and many believe are indeed the best) “off-the-shelf” supervised learning algorithm.\n",
    "\n",
    "This section is further divided into 3 subsections.\n",
    "\n",
    "\n",
    "*   In the first subsection, you will work on a synthetic dataset and visualize the boundary predicted by SVM. You will also vary the value of C-parameter and see how the decision boundary changes. **Please note that you cannot use inbuilt sklearn function for SVM in this sub-section**. You can only use a QCQP (Quadratically Constrained Quadratic Program) solver like CVXPY. \n",
    "\n",
    "  References which you may find helpful for this subsection: \n",
    "  \n",
    "  1.   https://www.cvxpy.org/\n",
    "  2.   https://www.cvxpy.org/examples/basic/quadratic_program.html\n",
    "\n",
    "  Note that in this section you are expected to show how you derived the Quadratically Constrained form(which can be passed into the solver) from the basic principles of SVM algorithm\n",
    "*  In the next subsection you will use be using the famous MNIST dataset to explore various kernels and report the results. **Please note you may use inbuilt sklearn SVM functions in this subsection**\n"
   ]
  },
  {
   "cell_type": "code",
   "execution_count": 4,
   "metadata": {
    "id": "Ub9ArRIDI9qR"
   },
   "outputs": [
    {
     "name": "stdout",
     "output_type": "stream",
     "text": [
      "Requirement already satisfied: numpy in /home/gokulvamsit/miniconda3/lib/python3.9/site-packages (1.19.5)\n",
      "Requirement already satisfied: matplotlib in /home/gokulvamsit/miniconda3/lib/python3.9/site-packages (3.4.3)\n",
      "Requirement already satisfied: pyparsing>=2.2.1 in /home/gokulvamsit/miniconda3/lib/python3.9/site-packages (from matplotlib) (2.4.7)\n",
      "Requirement already satisfied: numpy>=1.16 in /home/gokulvamsit/miniconda3/lib/python3.9/site-packages (from matplotlib) (1.19.5)\n",
      "Requirement already satisfied: kiwisolver>=1.0.1 in /home/gokulvamsit/miniconda3/lib/python3.9/site-packages (from matplotlib) (1.3.2)\n",
      "Requirement already satisfied: python-dateutil>=2.7 in /home/gokulvamsit/miniconda3/lib/python3.9/site-packages (from matplotlib) (2.8.2)\n",
      "Requirement already satisfied: pillow>=6.2.0 in /home/gokulvamsit/miniconda3/lib/python3.9/site-packages (from matplotlib) (8.3.2)\n",
      "Requirement already satisfied: cycler>=0.10 in /home/gokulvamsit/miniconda3/lib/python3.9/site-packages (from matplotlib) (0.10.0)\n",
      "Requirement already satisfied: six in /home/gokulvamsit/miniconda3/lib/python3.9/site-packages (from cycler>=0.10->matplotlib) (1.16.0)\n",
      "Collecting cvxpy\n",
      "  Downloading cvxpy-1.1.17-cp39-cp39-manylinux_2_24_x86_64.whl (879 kB)\n",
      "\u001b[K     |████████████████████████████████| 879 kB 2.2 MB/s eta 0:00:01\n",
      "\u001b[?25hCollecting scs>=1.1.6\n",
      "  Downloading scs-2.1.4.tar.gz (6.6 MB)\n",
      "\u001b[K     |████████████████████████████████| 6.6 MB 6.2 MB/s eta 0:00:01\n",
      "\u001b[?25h  Installing build dependencies ... \u001b[?25ldone\n",
      "\u001b[?25h  Getting requirements to build wheel ... \u001b[?25ldone\n",
      "\u001b[?25h    Preparing wheel metadata ... \u001b[?25ldone\n",
      "\u001b[?25hCollecting ecos>=2\n",
      "  Downloading ecos-2.0.7.post1.tar.gz (126 kB)\n",
      "\u001b[K     |████████████████████████████████| 126 kB 1.6 MB/s eta 0:00:01\n",
      "\u001b[?25hCollecting osqp>=0.4.1\n",
      "  Downloading osqp-0.6.2.post0-cp39-cp39-manylinux2014_x86_64.whl (212 kB)\n",
      "\u001b[K     |████████████████████████████████| 212 kB 3.7 MB/s eta 0:00:01\n",
      "\u001b[?25hRequirement already satisfied: numpy>=1.15 in /home/gokulvamsit/miniconda3/lib/python3.9/site-packages (from cvxpy) (1.19.5)\n",
      "Requirement already satisfied: scipy>=1.1.0 in /home/gokulvamsit/miniconda3/lib/python3.9/site-packages (from cvxpy) (1.7.1)\n",
      "Collecting qdldl\n",
      "  Downloading qdldl-0.1.5.post0-cp39-cp39-manylinux2014_x86_64.whl (917 kB)\n",
      "\u001b[K     |████████████████████████████████| 917 kB 1.9 MB/s eta 0:00:01\n",
      "\u001b[?25hBuilding wheels for collected packages: ecos, scs\n",
      "  Building wheel for ecos (setup.py) ... \u001b[?25ldone\n",
      "\u001b[?25h  Created wheel for ecos: filename=ecos-2.0.7.post1-cp39-cp39-linux_x86_64.whl size=66469 sha256=a95884eac15c661158c2a6674616905c2d01153000e7012bcd36bf693227b9b4\n",
      "  Stored in directory: /home/gokulvamsit/.cache/pip/wheels/f0/fa/7e/c1c571cea22526428cb4ee1c92bc987b2432afe35c1006dbc4\n",
      "  Building wheel for scs (PEP 517) ... \u001b[?25ldone\n",
      "\u001b[?25h  Created wheel for scs: filename=scs-2.1.4-cp39-cp39-linux_x86_64.whl size=129192 sha256=327036a7440b7c6e104275865e4e0aa74d699d8c8ba4720a399ef9337bb3c314\n",
      "  Stored in directory: /home/gokulvamsit/.cache/pip/wheels/39/72/f9/2815b4dd60f317eaf1dcf2dc5972902b7c969739a1fa280115\n",
      "Successfully built ecos scs\n",
      "Installing collected packages: qdldl, scs, osqp, ecos, cvxpy\n",
      "Successfully installed cvxpy-1.1.17 ecos-2.0.7.post1 osqp-0.6.2.post0 qdldl-0.1.5.post0 scs-2.1.4\n"
     ]
    }
   ],
   "source": [
    "# !pip install numpy\n",
    "# !pip install matplotlib\n",
    "# !pip install cvxpy\n",
    "import numpy as np\n",
    "import cvxpy as cp\n",
    "import matplotlib.pyplot as plt"
   ]
  },
  {
   "cell_type": "markdown",
   "metadata": {
    "id": "GasJBLV5I9qf"
   },
   "source": [
    "### Subsection 1"
   ]
  },
  {
   "cell_type": "code",
   "execution_count": 5,
   "metadata": {
    "id": "eulkE0pTI9qg"
   },
   "outputs": [],
   "source": [
    "# Feel free to use this helper function to visualize 2D points X with labels +1 or -1\n",
    "def plot_points(X, Y):\n",
    "    reds = []\n",
    "    blues = []\n",
    "    for i in range(Y.shape[0]):\n",
    "        if Y[i] == 1:\n",
    "            reds.append(X[i])\n",
    "        else:\n",
    "            blues.append(X[i])\n",
    "    reds = np.array(reds)\n",
    "    blues = np.array(blues)\n",
    "    plt.scatter(reds[:, 0], reds[:, 1], c = 'r')\n",
    "    plt.scatter(blues[:, 0], blues[:, 1], c = 'b')"
   ]
  },
  {
   "cell_type": "code",
   "execution_count": 6,
   "metadata": {
    "id": "rpWOqtHjI9qi"
   },
   "outputs": [
    {
     "data": {
      "image/png": "[encoded data removed]",
      "text/plain": [
       "<Figure size 432x288 with 1 Axes>"
      ]
     },
     "metadata": {
      "needs_background": "light"
     },
     "output_type": "display_data"
    }
   ],
   "source": [
    "# Create Synthetic Data and visualize the points\n",
    "X = np.array([[-3.5, -1], [-3, 0], [-3, 1], [-2.7, -1.3], [-2, -1], [-2, -2.7], \n",
    "              [-1, -2.5], [0, -3], [-1.1, 0], [0, 2.5], [1, 2], [0.7, 4], \n",
    "              [2.1, 0.2], [2.3, 1], [2.8, 1.8], [2.2, 2.8]])\n",
    "y = np.array([1, 1, 1, 1, 1, 1, 1, 1, -1, -1, -1, -1, -1, -1, -1, -1])\n",
    "\n",
    "plot_points(X, y)\n",
    "plt.show()"
   ]
  },
  {
   "cell_type": "markdown",
   "metadata": {
    "id": "qkXWnVMuI9qk"
   },
   "source": [
    "In the next cell you are required to derive the Quadratic Constrained Quadratic form of SVM **without soft constraints** from the basic principles. Start with the idea that SVM tries to maximize the margin and then derive the form which you can feed to the solver.\n",
    "\n",
    "Please print the values of w, b. \n",
    "\n",
    "**Note: You are also required to upload a page of the derivation. You may also type it in markdown here.**\n",
    "\n",
    "**Note: You cannot use sklearn SVM functions here.**"
   ]
  },
  {
   "cell_type": "code",
   "execution_count": null,
   "metadata": {
    "id": "cL-jVJH8I9ql"
   },
   "outputs": [],
   "source": [
    "# Write your code here"
   ]
  },
  {
   "cell_type": "markdown",
   "metadata": {
    "id": "E1qoXcdDI9qm"
   },
   "source": [
    "In the next cell you are required to visualize the boundary predicted by the solver. You may want to revise up on how to plot the a line given w, b. Please plot w vector as well as the margin lines\n",
    "\n",
    "You may want to create a function to plot the line of separation as you would require this frequently in the subsequent parts of the assignment."
   ]
  },
  {
   "cell_type": "code",
   "execution_count": null,
   "metadata": {
    "id": "X3271BtYI9qo"
   },
   "outputs": [],
   "source": [
    "# Write your code here"
   ]
  },
  {
   "cell_type": "markdown",
   "metadata": {
    "id": "NnSqBDqqI9qp"
   },
   "source": [
    "In the next cell please plot only the support vectors along with the boundary, w vector, and margins. \n",
    "\n",
    "**Note: You are not supposed to hard-code the points here.**"
   ]
  },
  {
   "cell_type": "code",
   "execution_count": null,
   "metadata": {
    "id": "wPBNQB-DI9qq"
   },
   "outputs": [],
   "source": [
    "# Write your code here"
   ]
  },
  {
   "cell_type": "markdown",
   "metadata": {
    "id": "x0Kso1FfI9qs"
   },
   "source": [
    "In the next cell add the following points:\n",
    "* (-4, -10) with label 1\n",
    "* (4, 4) with label -1\n",
    "\n",
    "Is the decision boundary changed after adding the points? Explain your observations theoretically."
   ]
  },
  {
   "cell_type": "code",
   "execution_count": null,
   "metadata": {
    "id": "m4V4ea1-I9qs"
   },
   "outputs": [],
   "source": [
    "# Re-create the Synthetic Data by adding the points and visualize the points"
   ]
  },
  {
   "cell_type": "code",
   "execution_count": null,
   "metadata": {
    "id": "sW93Z-FiI9qt"
   },
   "outputs": [],
   "source": [
    "# Solve for the decision boundary using this modified dataset"
   ]
  },
  {
   "cell_type": "markdown",
   "metadata": {
    "id": "AiepQDo3I9qu"
   },
   "source": [
    "In the next cell you are required to modify your framing of optimisation problem to incorporate soft constraints also known as slack. Plot the decision boundary, w and margin lines for various values of C: $0.01$, $0.1$, $3$, $10$, $100$.\n",
    "\n",
    "Explain your results theoretically. How does the boundary change with varying values of C? Why?\n",
    "\n",
    "**Note: Use the modified X and y i.e after adding points in previous cell.**"
   ]
  },
  {
   "cell_type": "code",
   "execution_count": null,
   "metadata": {
    "id": "TVEix42nI9qu"
   },
   "outputs": [],
   "source": [
    "# Write your code here for C= 0.01"
   ]
  },
  {
   "cell_type": "code",
   "execution_count": null,
   "metadata": {
    "id": "f8tdPNMAI9qv"
   },
   "outputs": [],
   "source": [
    "# Write your code here for C= 0.1"
   ]
  },
  {
   "cell_type": "code",
   "execution_count": null,
   "metadata": {
    "id": "Xf5hfxRRI9qw"
   },
   "outputs": [],
   "source": [
    "# Write your code here for C= 3"
   ]
  },
  {
   "cell_type": "code",
   "execution_count": null,
   "metadata": {
    "id": "qecGoXdnI9qx"
   },
   "outputs": [],
   "source": [
    "# Write your code here for C= 10"
   ]
  },
  {
   "cell_type": "code",
   "execution_count": null,
   "metadata": {
    "id": "cO3_kVe9I9qy"
   },
   "outputs": [],
   "source": [
    "# Write your code here for C= 100"
   ]
  },
  {
   "cell_type": "markdown",
   "metadata": {
    "id": "K7crSrYuI9qy"
   },
   "source": [
    "Take the case of C = 100 and remove the support vectors. Does the boundary change after the deletion?\n",
    "Explain why? Show your results by appropriate plots?"
   ]
  },
  {
   "cell_type": "code",
   "execution_count": null,
   "metadata": {
    "id": "DxC0xdsEI9qz"
   },
   "outputs": [],
   "source": [
    "# Write your Code here"
   ]
  },
  {
   "cell_type": "markdown",
   "metadata": {
    "id": "7goMP4wFI9q0"
   },
   "source": [
    "### Subsection 2"
   ]
  },
  {
   "cell_type": "code",
   "execution_count": 7,
   "metadata": {
    "id": "PZdBRpHuI9q0"
   },
   "outputs": [
    {
     "name": "stdout",
     "output_type": "stream",
     "text": [
      "Collecting python-mnist\n",
      "  Downloading python_mnist-0.7-py2.py3-none-any.whl (9.6 kB)\n",
      "Installing collected packages: python-mnist\n",
      "Successfully installed python-mnist-0.7\n",
      "--2021-11-17 12:36:35--  http://yann.lecun.com/exdb/mnist/train-images-idx3-ubyte.gz\n",
      "Resolving yann.lecun.com (yann.lecun.com)... 172.67.171.76, 104.21.29.36, 2606:4700:3036::ac43:ab4c, ...\n",
      "Connecting to yann.lecun.com (yann.lecun.com)|172.67.171.76|:80... connected.\n",
      "HTTP request sent, awaiting response... 200 OK\n",
      "Length: 9912422 (9.5M) [application/x-gzip]\n",
      "Saving to: ‘samples/train-images-idx3-ubyte.gz’\n",
      "\n",
      "train-images-idx3-u 100%[===================>]   9.45M   503KB/s    in 19s     \n",
      "\n",
      "2021-11-17 12:36:56 (498 KB/s) - ‘samples/train-images-idx3-ubyte.gz’ saved [9912422/9912422]\n",
      "\n",
      "--2021-11-17 12:36:57--  http://yann.lecun.com/exdb/mnist/train-labels-idx1-ubyte.gz\n",
      "Resolving yann.lecun.com (yann.lecun.com)... 104.21.29.36, 172.67.171.76, 2606:4700:3034::6815:1d24, ...\n",
      "Connecting to yann.lecun.com (yann.lecun.com)|104.21.29.36|:80... connected.\n",
      "HTTP request sent, awaiting response... 200 OK\n",
      "Length: 28881 (28K) [application/x-gzip]\n",
      "Saving to: ‘samples/train-labels-idx1-ubyte.gz’\n",
      "\n",
      "train-labels-idx1-u 100%[===================>]  28.20K  --.-KB/s    in 0.005s  \n",
      "\n",
      "2021-11-17 12:36:58 (6.02 MB/s) - ‘samples/train-labels-idx1-ubyte.gz’ saved [28881/28881]\n",
      "\n",
      "--2021-11-17 12:36:58--  http://yann.lecun.com/exdb/mnist/t10k-images-idx3-ubyte.gz\n",
      "Resolving yann.lecun.com (yann.lecun.com)... 104.21.29.36, 172.67.171.76, 2606:4700:3034::6815:1d24, ...\n",
      "Connecting to yann.lecun.com (yann.lecun.com)|104.21.29.36|:80... connected.\n",
      "HTTP request sent, awaiting response... 200 OK\n",
      "Length: 1648877 (1.6M) [application/x-gzip]\n",
      "Saving to: ‘samples/t10k-images-idx3-ubyte.gz’\n",
      "\n",
      "t10k-images-idx3-ub 100%[===================>]   1.57M   582KB/s    in 2.8s    \n",
      "\n",
      "2021-11-17 12:37:02 (582 KB/s) - ‘samples/t10k-images-idx3-ubyte.gz’ saved [1648877/1648877]\n",
      "\n",
      "--2021-11-17 12:37:02--  http://yann.lecun.com/exdb/mnist/t10k-labels-idx1-ubyte.gz\n",
      "Resolving yann.lecun.com (yann.lecun.com)... 104.21.29.36, 172.67.171.76, 2606:4700:3034::6815:1d24, ...\n",
      "Connecting to yann.lecun.com (yann.lecun.com)|104.21.29.36|:80... connected.\n",
      "HTTP request sent, awaiting response... 200 OK\n",
      "Length: 4542 (4.4K) [application/x-gzip]\n",
      "Saving to: ‘samples/t10k-labels-idx1-ubyte.gz’\n",
      "\n",
      "t10k-labels-idx1-ub 100%[===================>]   4.44K  --.-KB/s    in 0s      \n",
      "\n",
      "2021-11-17 12:37:03 (166 MB/s) - ‘samples/t10k-labels-idx1-ubyte.gz’ saved [4542/4542]\n",
      "\n"
     ]
    }
   ],
   "source": [
    "!pip install python-mnist\n",
    "!rm -rf samples\n",
    "!mkdir samples\n",
    "!wget http://yann.lecun.com/exdb/mnist/train-images-idx3-ubyte.gz -P samples/\n",
    "!gunzip samples/train-images-idx3-ubyte.gz\n",
    "!wget http://yann.lecun.com/exdb/mnist/train-labels-idx1-ubyte.gz -P samples/\n",
    "!gunzip samples/train-labels-idx1-ubyte.gz\n",
    "!wget http://yann.lecun.com/exdb/mnist/t10k-images-idx3-ubyte.gz -P samples/\n",
    "!gunzip samples/t10k-images-idx3-ubyte.gz\n",
    "!wget http://yann.lecun.com/exdb/mnist/t10k-labels-idx1-ubyte.gz -P samples/\n",
    "!gunzip samples/t10k-labels-idx1-ubyte.gz"
   ]
  },
  {
   "cell_type": "code",
   "execution_count": 8,
   "metadata": {
    "id": "0XjsnEzVI9q1"
   },
   "outputs": [],
   "source": [
    "# Import Relevant Packages\n",
    "from sklearn.svm import SVC\n",
    "import numpy as np\n",
    "from mnist.loader import MNIST"
   ]
  },
  {
   "cell_type": "code",
   "execution_count": 9,
   "metadata": {
    "id": "WvXDgQXsI9q1"
   },
   "outputs": [
    {
     "name": "stdout",
     "output_type": "stream",
     "text": [
      "(60000, 784)\n",
      "(60000,)\n"
     ]
    }
   ],
   "source": [
    "mndata = MNIST('samples')\n",
    "\n",
    "# Load training dataset\n",
    "images, labels = mndata.load_training()\n",
    "l = len(labels)\n",
    "images_train = np.array(images)\n",
    "labels_train = np.array(labels)\n",
    "\n",
    "print(images_train.shape)\n",
    "print(labels_train.shape)"
   ]
  },
  {
   "cell_type": "code",
   "execution_count": 11,
   "metadata": {
    "id": "pqZ5EG36I9q2"
   },
   "outputs": [
    {
     "name": "stdout",
     "output_type": "stream",
     "text": [
      "(10000, 784)\n",
      "(10000,)\n",
      "[7 2 1 0 4]\n"
     ]
    }
   ],
   "source": [
    "# Load testing dataset\n",
    "images, labels = mndata.load_testing()\n",
    "l = len(labels)\n",
    "images_test = np.array(images)\n",
    "labels_test = np.array(labels)\n",
    "\n",
    "print(images_test.shape)\n",
    "print(labels_test.shape)\n",
    "print(labels_test[:5])"
   ]
  },
  {
   "cell_type": "code",
   "execution_count": 12,
   "metadata": {},
   "outputs": [],
   "source": [
    "from sklearn.metrics import confusion_matrix, accuracy_score, precision_score, f1_score, recall_score\n",
    "\n",
    "def get_metrics(k, c, g, ytrue, ypred):\n",
    "    print(f\"For kernel = {k}, C = {c}, gamma = {g}\")\n",
    "    acc = accuracy_score(ytrue, ypred)\n",
    "    f1 = f1_score(ytrue, ypred)\n",
    "    prec = precision_score(ytrue, ypred)\n",
    "    rec = recall_score(ytrue, ypred)\n",
    "    print(f'Accuracy: {acc}, Precision: {prec}, Recall: {rec}, F1-score: {f1}')\n",
    "    print(confusion_matrix(ytrue, ypred))"
   ]
  },
  {
   "cell_type": "markdown",
   "metadata": {
    "id": "N8F6VkaLI9q3"
   },
   "source": [
    "- Tweak different parameters like the C Parameter and gamma parameter of the Linear SVM and report the results.\n",
    "- Experiment different kernels for classification and report the results.\n",
    "\n",
    "Report accuracy score, F1-score, Confusion matrix and any other metrics you feel useful."
   ]
  },
  {
   "cell_type": "code",
   "execution_count": null,
   "metadata": {
    "id": "CztJyLokI9q3"
   },
   "outputs": [],
   "source": [
    "import gc\n",
    "\n",
    "possible_kernel_values = ['linear', 'poly', 'rbf', 'sigmoid', 'precomputed']\n",
    "possible_C_values = [0.01, 0.1, 1, 10, 100, 1000]\n",
    "possible_gamma_values = ['scale', 'auto']\n",
    "\n",
    "for kernel in possible_kernel_values:\n",
    "    for C in possible_C_values:\n",
    "        for gamma in possible_gamma_values:\n",
    "            classifier = SVC(kernel=kernel, C=C, gamma=gamma)\n",
    "            classifier.fit(images_train, labels_train)\n",
    "            labels_pred = classifier.predict(images_test)\n",
    "            get_metrics(kernel, C, gamma, labels_test, labels_pred)\n",
    "            del classifier\n",
    "            gc.collect()"
   ]
  }
 ],
 "metadata": {
  "colab": {
   "name": "SVM.ipynb",
   "provenance": []
  },
  "kernelspec": {
   "display_name": "Python 3 (ipykernel)",
   "language": "python",
   "name": "python3"
  },
  "language_info": {
   "codemirror_mode": {
    "name": "ipython",
    "version": 3
   },
   "file_extension": ".py",
   "mimetype": "text/x-python",
   "name": "python",
   "nbconvert_exporter": "python",
   "pygments_lexer": "ipython3",
   "version": "3.9.5"
  }
 },
 "nbformat": 4,
 "nbformat_minor": 1
}
